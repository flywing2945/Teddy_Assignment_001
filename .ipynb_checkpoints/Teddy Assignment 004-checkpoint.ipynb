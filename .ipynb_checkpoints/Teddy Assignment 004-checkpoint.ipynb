{
 "cells": [
  {
   "cell_type": "code",
   "execution_count": 1,
   "id": "39b3b48e",
   "metadata": {},
   "outputs": [],
   "source": [
    "import pickle\n",
    "\n",
    "filename = 'covid_predictor.pkl'"
   ]
  },
  {
   "cell_type": "code",
   "execution_count": 2,
   "id": "1d6c8d1e",
   "metadata": {},
   "outputs": [],
   "source": [
    "#unpacking pickle\n",
    "with open(filename, 'rb') as f:\n",
    "    model = pickle.load(f)\n"
   ]
  },
  {
   "cell_type": "code",
   "execution_count": 17,
   "id": "80208685",
   "metadata": {},
   "outputs": [],
   "source": [
    "import pandas as pd\n",
    "import numpy as np"
   ]
  },
  {
   "cell_type": "code",
   "execution_count": 4,
   "id": "9582cc5b",
   "metadata": {},
   "outputs": [
    {
     "data": {
      "text/html": [
       "<div>\n",
       "<style scoped>\n",
       "    .dataframe tbody tr th:only-of-type {\n",
       "        vertical-align: middle;\n",
       "    }\n",
       "\n",
       "    .dataframe tbody tr th {\n",
       "        vertical-align: top;\n",
       "    }\n",
       "\n",
       "    .dataframe thead th {\n",
       "        text-align: right;\n",
       "    }\n",
       "</style>\n",
       "<table border=\"1\" class=\"dataframe\">\n",
       "  <thead>\n",
       "    <tr style=\"text-align: right;\">\n",
       "      <th></th>\n",
       "      <th>cases_new</th>\n",
       "      <th>cases_unvax</th>\n",
       "      <th>cases_pvax</th>\n",
       "      <th>cases_fvax</th>\n",
       "      <th>cases_boost</th>\n",
       "      <th>deaths_new</th>\n",
       "      <th>total_partial_per</th>\n",
       "      <th>total_full_per</th>\n",
       "      <th>total_booster_per</th>\n",
       "      <th>total_booster2_per</th>\n",
       "    </tr>\n",
       "  </thead>\n",
       "  <tbody>\n",
       "    <tr>\n",
       "      <th>0</th>\n",
       "      <td>1971</td>\n",
       "      <td>217</td>\n",
       "      <td>13</td>\n",
       "      <td>352</td>\n",
       "      <td>1389</td>\n",
       "      <td>3</td>\n",
       "      <td>85.369595</td>\n",
       "      <td>84.209339</td>\n",
       "      <td>49.682388</td>\n",
       "      <td>1.480116</td>\n",
       "    </tr>\n",
       "  </tbody>\n",
       "</table>\n",
       "</div>"
      ],
      "text/plain": [
       "   cases_new  cases_unvax  cases_pvax  cases_fvax  cases_boost  deaths_new  \\\n",
       "0       1971          217          13         352         1389           3   \n",
       "\n",
       "   total_partial_per  total_full_per  total_booster_per  total_booster2_per  \n",
       "0          85.369595       84.209339          49.682388            1.480116  "
      ]
     },
     "execution_count": 4,
     "metadata": {},
     "output_type": "execute_result"
    }
   ],
   "source": [
    "X_new = pd.DataFrame({\n",
    "    'cases_new':[1971], \n",
    "    'cases_unvax': [217], \n",
    "    'cases_pvax': [13],\n",
    "    'cases_fvax':[352],\n",
    "    'cases_boost':[1389], \n",
    "    'deaths_new': [3], \n",
    "    'total_partial_per': [85.369595],\n",
    "    'total_full_per':[84.209339],\n",
    "    'total_booster_per': [49.682388],\n",
    "    'total_booster2_per':[1.480116]\n",
    "    })\n",
    "X_new"
   ]
  },
  {
   "cell_type": "code",
   "execution_count": 7,
   "id": "37d56b57",
   "metadata": {},
   "outputs": [],
   "source": [
    "today_case = model.predict(X_new)"
   ]
  },
  {
   "cell_type": "code",
   "execution_count": 11,
   "id": "fef29b6f",
   "metadata": {},
   "outputs": [
    {
     "data": {
      "text/plain": [
       "2175.516129032258"
      ]
     },
     "execution_count": 11,
     "metadata": {},
     "output_type": "execute_result"
    }
   ],
   "source": [
    "today_case[0]"
   ]
  },
  {
   "cell_type": "code",
   "execution_count": 30,
   "id": "919e7641",
   "metadata": {},
   "outputs": [
    {
     "data": {
      "text/plain": [
       "\"Hello,\\n\\nThis is a mail that predict tomorrow's covid case in Malaysia: \\n\\n2175\\n\\nThank You\\n\""
      ]
     },
     "execution_count": 30,
     "metadata": {},
     "output_type": "execute_result"
    }
   ],
   "source": [
    "mail_content = '''Hello,\n",
    "\n",
    "This is a mail that predict tomorrow's covid case in Malaysia: \n",
    "\n",
    "''' + str(int(today_case[0])) + '''\n",
    "\n",
    "Thank You\n",
    "'''\n",
    "\n",
    "mail_content"
   ]
  },
  {
   "cell_type": "code",
   "execution_count": 31,
   "id": "e605f6f3",
   "metadata": {},
   "outputs": [],
   "source": [
    "import json\n",
    "import email\n",
    "import smtplib\n",
    "import ssl\n",
    "from PIL import Image,ImageFont, ImageDraw\n",
    "from email import encoders\n",
    "from email.mime.base import MIMEBase\n",
    "from email.mime.multipart import MIMEMultipart\n",
    "from email.mime.text import MIMEText\n",
    "from email.mime.application import MIMEApplication\n",
    "from googleapiclient.discovery import build\n",
    "from google_auth_oauthlib.flow import InstalledAppFlow\n",
    "from google.auth.transport.requests import Request\n",
    "from google.oauth2.credentials import Credentials"
   ]
  },
  {
   "cell_type": "code",
   "execution_count": 32,
   "id": "9a812579",
   "metadata": {},
   "outputs": [
    {
     "name": "stdout",
     "output_type": "stream",
     "text": [
      "Mail Sent\n"
     ]
    }
   ],
   "source": [
    "#The mail addresses and password\n",
    "sender_address = 'flywing2945@gmail.com'\n",
    "sender_pass = 'dmwjssvkjsaxfetw'\n",
    "receiver_address = 'flywing29452003@yahoo.com'\n",
    "#Setup the MIME\n",
    "message = MIMEMultipart()\n",
    "message['From'] = sender_address\n",
    "message['To'] = receiver_address\n",
    "message['Subject'] = 'Prediction on Covid case for tomorrow.'   #The subject line\n",
    "#The body and the attachments for the mail\n",
    "message.attach(MIMEText(mail_content, 'plain'))\n",
    "#Create SMTP session for sending the mail\n",
    "session = smtplib.SMTP('smtp.gmail.com', 587) #use gmail with port\n",
    "session.starttls() #enable security\n",
    "session.login(sender_address, sender_pass) #login with mail_id and password\n",
    "text = message.as_string()\n",
    "session.sendmail(sender_address, receiver_address, text)\n",
    "session.quit()\n",
    "print('Mail Sent')"
   ]
  },
  {
   "cell_type": "code",
   "execution_count": null,
   "id": "3d7a20a8",
   "metadata": {},
   "outputs": [],
   "source": []
  }
 ],
 "metadata": {
  "kernelspec": {
   "display_name": "Python 3 (ipykernel)",
   "language": "python",
   "name": "python3"
  },
  "language_info": {
   "codemirror_mode": {
    "name": "ipython",
    "version": 3
   },
   "file_extension": ".py",
   "mimetype": "text/x-python",
   "name": "python",
   "nbconvert_exporter": "python",
   "pygments_lexer": "ipython3",
   "version": "3.9.7"
  }
 },
 "nbformat": 4,
 "nbformat_minor": 5
}
