{
 "cells": [
  {
   "cell_type": "code",
   "execution_count": 1,
   "id": "db88710a",
   "metadata": {},
   "outputs": [],
   "source": [
    "import numpy as np\n",
    "import pandas as pd\n",
    "import json\n",
    "import email\n",
    "import smtplib\n",
    "import ssl\n",
    "from PIL import Image,ImageFont, ImageDraw\n",
    "from email import encoders\n",
    "from email.mime.base import MIMEBase\n",
    "from email.mime.multipart import MIMEMultipart\n",
    "from email.mime.text import MIMEText\n",
    "from email.mime.application import MIMEApplication\n",
    "from googleapiclient.discovery import build\n",
    "from google_auth_oauthlib.flow import InstalledAppFlow\n",
    "from google.auth.transport.requests import Request\n",
    "from google.oauth2.credentials import Credentials"
   ]
  },
  {
   "cell_type": "code",
   "execution_count": 2,
   "id": "a4b083ec",
   "metadata": {},
   "outputs": [],
   "source": [
    "import os"
   ]
  },
  {
   "cell_type": "code",
   "execution_count": 7,
   "id": "5a9f3e5a",
   "metadata": {},
   "outputs": [
    {
     "data": {
      "text/plain": [
       "['.ipynb_checkpoints',\n",
       " 'cases_malaysia.csv',\n",
       " 'cases_state.csv',\n",
       " 'covid_predictor.pkl',\n",
       " 'deaths_malaysia.csv',\n",
       " 'deaths_state.csv',\n",
       " 'emails-Teddy.xlsx',\n",
       " 'filename',\n",
       " 'population.csv',\n",
       " 'Teddy Assignment 001.ipynb',\n",
       " 'Teddy Assignment 002.ipynb',\n",
       " 'Teddy Assignment 003.ipynb',\n",
       " 'Teddy Assignment 004.ipynb',\n",
       " 'Teddy Automation 001.ipynb',\n",
       " 'Teddy ReadMe.txt',\n",
       " 'Test sent email.ipynb',\n",
       " 'vax_malaysia.csv',\n",
       " 'vax_state.csv']"
      ]
     },
     "execution_count": 7,
     "metadata": {},
     "output_type": "execute_result"
    }
   ],
   "source": [
    "os.listdir()"
   ]
  },
  {
   "cell_type": "code",
   "execution_count": 13,
   "id": "938038d7",
   "metadata": {},
   "outputs": [
    {
     "data": {
      "text/html": [
       "<div>\n",
       "<style scoped>\n",
       "    .dataframe tbody tr th:only-of-type {\n",
       "        vertical-align: middle;\n",
       "    }\n",
       "\n",
       "    .dataframe tbody tr th {\n",
       "        vertical-align: top;\n",
       "    }\n",
       "\n",
       "    .dataframe thead th {\n",
       "        text-align: right;\n",
       "    }\n",
       "</style>\n",
       "<table border=\"1\" class=\"dataframe\">\n",
       "  <thead>\n",
       "    <tr style=\"text-align: right;\">\n",
       "      <th></th>\n",
       "      <th>Name</th>\n",
       "      <th>Email</th>\n",
       "    </tr>\n",
       "  </thead>\n",
       "  <tbody>\n",
       "    <tr>\n",
       "      <th>0</th>\n",
       "      <td>Teddy yahoo mail</td>\n",
       "      <td>flywing29452003@yahoo.com</td>\n",
       "    </tr>\n",
       "    <tr>\n",
       "      <th>1</th>\n",
       "      <td>Teddy hotmail</td>\n",
       "      <td>flywing2945@hotmail.com</td>\n",
       "    </tr>\n",
       "    <tr>\n",
       "      <th>2</th>\n",
       "      <td>Teddy gmail</td>\n",
       "      <td>flywing2945@gmail.com</td>\n",
       "    </tr>\n",
       "  </tbody>\n",
       "</table>\n",
       "</div>"
      ],
      "text/plain": [
       "               Name                      Email\n",
       "0  Teddy yahoo mail  flywing29452003@yahoo.com\n",
       "1     Teddy hotmail    flywing2945@hotmail.com\n",
       "2       Teddy gmail      flywing2945@gmail.com"
      ]
     },
     "execution_count": 13,
     "metadata": {},
     "output_type": "execute_result"
    }
   ],
   "source": [
    "excel_list = pd.read_excel(\"emails-Teddy.xlsx\", sheet_name=\"Sheet1\")\n",
    "excel_list"
   ]
  },
  {
   "cell_type": "code",
   "execution_count": 46,
   "id": "7cc67f89",
   "metadata": {},
   "outputs": [],
   "source": [
    "mail_list = []\n",
    "name = []\n",
    "for k in excel_list:\n",
    "    receipient = excel_list['Name']\n",
    "    email = excel_list['Email']\n",
    "    mail_list.append(email)\n",
    "    name.append(receipient)"
   ]
  },
  {
   "cell_type": "code",
   "execution_count": 48,
   "id": "dc1b075c",
   "metadata": {},
   "outputs": [
    {
     "data": {
      "text/plain": [
       "[0    flywing29452003@yahoo.com\n",
       " 1      flywing2945@hotmail.com\n",
       " 2        flywing2945@gmail.com\n",
       " Name: Email, dtype: object,\n",
       " 0    flywing29452003@yahoo.com\n",
       " 1      flywing2945@hotmail.com\n",
       " 2        flywing2945@gmail.com\n",
       " Name: Email, dtype: object]"
      ]
     },
     "execution_count": 48,
     "metadata": {},
     "output_type": "execute_result"
    }
   ],
   "source": [
    "mail_list"
   ]
  },
  {
   "cell_type": "code",
   "execution_count": 3,
   "id": "c151313a",
   "metadata": {},
   "outputs": [
    {
     "name": "stdout",
     "output_type": "stream",
     "text": [
      "Mail Sent\n"
     ]
    }
   ],
   "source": [
    "mail_content = '''\n",
    "Hello,\n",
    "This is a simple mail. There is only text, no attachments are there The mail is sent using Python SMTP library.\n",
    "Thank You\n",
    "'''\n",
    "\n",
    "#The mail addresses and password\n",
    "sender_address = 'flywing2945@gmail.com'\n",
    "sender_pass = 'dmwjssvkjsaxfetw'\n",
    "receiver_address = 'flywing29452003@yahoo.com'\n",
    "#Setup the MIME\n",
    "message = MIMEMultipart()\n",
    "message['From'] = sender_address\n",
    "message['To'] = receiver_address\n",
    "message['Subject'] = 'Prediction on Covid case for tomorrow.'   #The subject line\n",
    "#The body and the attachments for the mail\n",
    "message.attach(MIMEText(mail_content, 'plain'))\n",
    "#Create SMTP session for sending the mail\n",
    "session = smtplib.SMTP('smtp.gmail.com', 587) #use gmail with port\n",
    "session.starttls() #enable security\n",
    "session.login(sender_address, sender_pass) #login with mail_id and password\n",
    "text = message.as_string()\n",
    "session.sendmail(sender_address, receiver_address, text)\n",
    "session.quit()\n",
    "print('Mail Sent')"
   ]
  },
  {
   "cell_type": "code",
   "execution_count": null,
   "id": "65328f84",
   "metadata": {},
   "outputs": [],
   "source": []
  }
 ],
 "metadata": {
  "kernelspec": {
   "display_name": "Python 3 (ipykernel)",
   "language": "python",
   "name": "python3"
  },
  "language_info": {
   "codemirror_mode": {
    "name": "ipython",
    "version": 3
   },
   "file_extension": ".py",
   "mimetype": "text/x-python",
   "name": "python",
   "nbconvert_exporter": "python",
   "pygments_lexer": "ipython3",
   "version": "3.9.7"
  }
 },
 "nbformat": 4,
 "nbformat_minor": 5
}
